{
 "cells": [
  {
   "cell_type": "code",
   "execution_count": 1,
   "metadata": {
    "collapsed": true
   },
   "outputs": [],
   "source": [
    "import pandas as pd\n",
    "import numpy as np\n",
    "import matplotlib.pyplot as plt\n",
    "%matplotlib inline"
   ]
  },
  {
   "cell_type": "code",
   "execution_count": 2,
   "metadata": {
    "collapsed": true
   },
   "outputs": [],
   "source": [
    "Data = pd.read_csv('en.openfoodfacts.org.products.tsv', sep='\\t', low_memory=False)"
   ]
  },
  {
   "cell_type": "code",
   "execution_count": 3,
   "metadata": {},
   "outputs": [
    {
     "name": "stdout",
     "output_type": "stream",
     "text": [
      "(356027, 163)\n"
     ]
    }
   ],
   "source": [
    "print(Data.shape);"
   ]
  },
  {
   "cell_type": "code",
   "execution_count": 5,
   "metadata": {},
   "outputs": [
    {
     "data": {
      "text/plain": [
       "<matplotlib.axes._subplots.AxesSubplot at 0x190802d0358>"
      ]
     },
     "execution_count": 5,
     "metadata": {},
     "output_type": "execute_result"
    },
    {
     "data": {
      "image/png": "[encoded data removed]",
      "text/plain": [
       "<matplotlib.figure.Figure at 0x19080262b38>"
      ]
     },
     "metadata": {},
     "output_type": "display_data"
    }
   ],
   "source": [
    "# Now plot the frequencies of the country in dataset\n",
    "plt.figure(figsize=(12,8))\n",
    "Data.countries.value_counts(normalize=True).head(10).plot(kind='bar')"
   ]
  },
  {
   "cell_type": "code",
   "execution_count": 6,
   "metadata": {},
   "outputs": [
    {
     "ename": "NameError",
     "evalue": "name 'foodFactData' is not defined",
     "output_type": "error",
     "traceback": [
      "\u001b[1;31m---------------------------------------------------------------------------\u001b[0m",
      "\u001b[1;31mNameError\u001b[0m                                 Traceback (most recent call last)",
      "\u001b[1;32m<ipython-input-6-d4593457befe>\u001b[0m in \u001b[0;36m<module>\u001b[1;34m()\u001b[0m\n\u001b[0;32m      1\u001b[0m \u001b[0mData\u001b[0m\u001b[1;33m.\u001b[0m\u001b[0mcountries\u001b[0m\u001b[1;33m=\u001b[0m\u001b[0mData\u001b[0m\u001b[1;33m.\u001b[0m\u001b[0mcountries\u001b[0m\u001b[1;33m.\u001b[0m\u001b[0mstr\u001b[0m\u001b[1;33m.\u001b[0m\u001b[0mlower\u001b[0m\u001b[1;33m(\u001b[0m\u001b[1;33m)\u001b[0m\u001b[1;33m\u001b[0m\u001b[0m\n\u001b[0;32m      2\u001b[0m \u001b[0mData\u001b[0m\u001b[1;33m.\u001b[0m\u001b[0mloc\u001b[0m\u001b[1;33m[\u001b[0m\u001b[0mData\u001b[0m\u001b[1;33m[\u001b[0m\u001b[1;34m'countries'\u001b[0m\u001b[1;33m]\u001b[0m \u001b[1;33m==\u001b[0m \u001b[1;34m'en:fr'\u001b[0m\u001b[1;33m,\u001b[0m \u001b[1;34m'countries'\u001b[0m\u001b[1;33m]\u001b[0m \u001b[1;33m=\u001b[0m \u001b[1;34m'france'\u001b[0m\u001b[1;33m\u001b[0m\u001b[0m\n\u001b[1;32m----> 3\u001b[1;33m \u001b[0mData\u001b[0m\u001b[1;33m.\u001b[0m\u001b[0mloc\u001b[0m\u001b[1;33m[\u001b[0m\u001b[0mfoodFactData\u001b[0m\u001b[1;33m[\u001b[0m\u001b[1;34m'countries'\u001b[0m\u001b[1;33m]\u001b[0m \u001b[1;33m==\u001b[0m \u001b[1;34m'en:es'\u001b[0m\u001b[1;33m,\u001b[0m \u001b[1;34m'countries'\u001b[0m\u001b[1;33m]\u001b[0m \u001b[1;33m=\u001b[0m \u001b[1;34m'spain'\u001b[0m\u001b[1;33m\u001b[0m\u001b[0m\n\u001b[0m\u001b[0;32m      4\u001b[0m \u001b[0mData\u001b[0m\u001b[1;33m.\u001b[0m\u001b[0mloc\u001b[0m\u001b[1;33m[\u001b[0m\u001b[0mData\u001b[0m\u001b[1;33m[\u001b[0m\u001b[1;34m'countries'\u001b[0m\u001b[1;33m]\u001b[0m \u001b[1;33m==\u001b[0m \u001b[1;34m'en:gb'\u001b[0m\u001b[1;33m,\u001b[0m \u001b[1;34m'countries'\u001b[0m\u001b[1;33m]\u001b[0m\u001b[1;33m=\u001b[0m\u001b[1;34m'united kingdom'\u001b[0m\u001b[1;33m\u001b[0m\u001b[0m\n\u001b[0;32m      5\u001b[0m \u001b[0mData\u001b[0m\u001b[1;33m.\u001b[0m\u001b[0mloc\u001b[0m\u001b[1;33m[\u001b[0m\u001b[0mData\u001b[0m\u001b[1;33m[\u001b[0m\u001b[1;34m'countries'\u001b[0m\u001b[1;33m]\u001b[0m \u001b[1;33m==\u001b[0m \u001b[1;34m'en:uk'\u001b[0m\u001b[1;33m,\u001b[0m \u001b[1;34m'countries'\u001b[0m\u001b[1;33m]\u001b[0m\u001b[1;33m=\u001b[0m\u001b[1;34m'united kingdom'\u001b[0m\u001b[1;33m\u001b[0m\u001b[0m\n",
      "\u001b[1;31mNameError\u001b[0m: name 'foodFactData' is not defined"
     ]
    }
   ],
   "source": [
    "Data.countries=Data.countries.str.lower()\n",
    "Data.loc[Data['countries'] == 'en:fr', 'countries'] = 'france'\n",
    "Data.loc[foodFactData['countries'] == 'en:es', 'countries'] = 'spain'\n",
    "Data.loc[Data['countries'] == 'en:gb', 'countries']='united kingdom'\n",
    "Data.loc[Data['countries'] == 'en:uk', 'countries']='united kingdom'\n",
    "Data.loc[Data['countries'] == 'holland','countries']='netherlands'\n",
    "Data.loc[Data['countries'] == 'españa','countries']='spain'\n",
    "Data.loc[Data['countries'] == 'us','countries']='united states'\n",
    "Data.loc[Data['countries'] == 'en:us','countries']='united states'\n",
    "Data.loc[Data['countries'] == 'usa','countries']='united states'\n",
    "Data.loc[Data['countries'] == 'en:cn','countries']='canada'\n",
    "Data.loc[Data['countries'] == 'en:au','countries']='australia'\n",
    "Data.loc[Data['countries'] == 'en:de','countries']='germany'\n",
    "Data.loc[Data['countries'] == 'deutschland','countries']='germany'\n",
    "Data.loc[Data['countries'] == 'en:cn','countries']='china'\n",
    "Data.loc[Data['countries'] == 'en:be','countries']='belgium'\n",
    "Data.loc[Data['countries'] == 'en:ch','countries']='switzerland'"
   ]
  },
  {
   "cell_type": "code",
   "execution_count": 9,
   "metadata": {},
   "outputs": [
    {
     "data": {
      "text/plain": [
       "<matplotlib.axes._subplots.AxesSubplot at 0x12e80139d30>"
      ]
     },
     "execution_count": 9,
     "metadata": {},
     "output_type": "execute_result"
    },
    {
     "data": {
      "image/png": "[encoded data removed]",
      "text/plain": [
       "<matplotlib.figure.Figure at 0x12e801586d8>"
      ]
     },
     "metadata": {},
     "output_type": "display_data"
    }
   ],
   "source": [
    "# For better visualization purpose , import seaborn library\n",
    "import seaborn as sns\n",
    "fig=plt.figure(figsize=(12,8))\n",
    "ax1 = fig.add_subplot(1,1,1)\n",
    "# Now plot possibly top five countries in this dataset\n",
    "Data.countries.value_counts(normalize=True).head().plot(kind='bar')"
   ]
  },
  {
   "cell_type": "code",
   "execution_count": 7,
   "metadata": {},
   "outputs": [
    {
     "data": {
      "text/plain": [
       "france    122355\n",
       "Name: countries, dtype: int64"
      ]
     },
     "execution_count": 7,
     "metadata": {},
     "output_type": "execute_result"
    }
   ],
   "source": [
    "Data[Data['countries'] == 'france'].countries.value_counts()"
   ]
  },
  {
   "cell_type": "code",
   "execution_count": 24,
   "metadata": {},
   "outputs": [
    {
     "name": "stdout",
     "output_type": "stream",
     "text": [
      "['code' 'url' 'creator' 'created_t' 'created_datetime' 'last_modified_t'\n",
      " 'last_modified_datetime' 'product_name' 'generic_name' 'quantity'\n",
      " 'packaging' 'packaging_tags' 'brands' 'brands_tags' 'categories'\n",
      " 'categories_tags' 'categories_en' 'origins' 'origins_tags'\n",
      " 'manufacturing_places' 'manufacturing_places_tags' 'labels' 'labels_tags'\n",
      " 'labels_en' 'emb_codes' 'emb_codes_tags' 'first_packaging_code_geo'\n",
      " 'cities' 'cities_tags' 'purchase_places' 'stores' 'countries'\n",
      " 'countries_tags' 'countries_en' 'ingredients_text' 'allergens'\n",
      " 'allergens_en' 'traces' 'traces_tags' 'traces_en' 'serving_size'\n",
      " 'no_nutriments' 'additives_n' 'additives' 'additives_tags' 'additives_en'\n",
      " 'ingredients_from_palm_oil_n' 'ingredients_from_palm_oil'\n",
      " 'ingredients_from_palm_oil_tags' 'ingredients_that_may_be_from_palm_oil_n'\n",
      " 'ingredients_that_may_be_from_palm_oil'\n",
      " 'ingredients_that_may_be_from_palm_oil_tags' 'nutrition_grade_uk'\n",
      " 'nutrition_grade_fr' 'pnns_groups_1' 'pnns_groups_2' 'states'\n",
      " 'states_tags' 'states_en' 'main_category' 'main_category_en' 'image_url'\n",
      " 'image_small_url' 'energy_100g' 'energy-from-fat_100g' 'fat_100g'\n",
      " 'saturated-fat_100g' '-butyric-acid_100g' '-caproic-acid_100g'\n",
      " '-caprylic-acid_100g' '-capric-acid_100g' '-lauric-acid_100g'\n",
      " '-myristic-acid_100g' '-palmitic-acid_100g' '-stearic-acid_100g'\n",
      " '-arachidic-acid_100g' '-behenic-acid_100g' '-lignoceric-acid_100g'\n",
      " '-cerotic-acid_100g' '-montanic-acid_100g' '-melissic-acid_100g'\n",
      " 'monounsaturated-fat_100g' 'polyunsaturated-fat_100g' 'omega-3-fat_100g'\n",
      " '-alpha-linolenic-acid_100g' '-eicosapentaenoic-acid_100g'\n",
      " '-docosahexaenoic-acid_100g' 'omega-6-fat_100g' '-linoleic-acid_100g'\n",
      " '-arachidonic-acid_100g' '-gamma-linolenic-acid_100g'\n",
      " '-dihomo-gamma-linolenic-acid_100g' 'omega-9-fat_100g' '-oleic-acid_100g'\n",
      " '-elaidic-acid_100g' '-gondoic-acid_100g' '-mead-acid_100g'\n",
      " '-erucic-acid_100g' '-nervonic-acid_100g' 'trans-fat_100g'\n",
      " 'cholesterol_100g' 'carbohydrates_100g' 'sugars_100g' '-sucrose_100g'\n",
      " '-glucose_100g' '-fructose_100g' '-lactose_100g' '-maltose_100g'\n",
      " '-maltodextrins_100g' 'starch_100g' 'polyols_100g' 'fiber_100g'\n",
      " 'proteins_100g' 'casein_100g' 'serum-proteins_100g' 'nucleotides_100g'\n",
      " 'salt_100g' 'sodium_100g' 'alcohol_100g' 'vitamin-a_100g'\n",
      " 'beta-carotene_100g' 'vitamin-d_100g' 'vitamin-e_100g' 'vitamin-k_100g'\n",
      " 'vitamin-c_100g' 'vitamin-b1_100g' 'vitamin-b2_100g' 'vitamin-pp_100g'\n",
      " 'vitamin-b6_100g' 'vitamin-b9_100g' 'folates_100g' 'vitamin-b12_100g'\n",
      " 'biotin_100g' 'pantothenic-acid_100g' 'silica_100g' 'bicarbonate_100g'\n",
      " 'potassium_100g' 'chloride_100g' 'calcium_100g' 'phosphorus_100g'\n",
      " 'iron_100g' 'magnesium_100g' 'zinc_100g' 'copper_100g' 'manganese_100g'\n",
      " 'fluoride_100g' 'selenium_100g' 'chromium_100g' 'molybdenum_100g'\n",
      " 'iodine_100g' 'caffeine_100g' 'taurine_100g' 'ph_100g'\n",
      " 'fruits-vegetables-nuts_100g' 'fruits-vegetables-nuts-estimate_100g'\n",
      " 'collagen-meat-protein-ratio_100g' 'cocoa_100g' 'chlorophyl_100g'\n",
      " 'carbon-footprint_100g' 'nutrition-score-fr_100g'\n",
      " 'nutrition-score-uk_100g' 'glycemic-index_100g' 'water-hardness_100g']\n"
     ]
    }
   ],
   "source": [
    "names=Data.columns.values\n",
    "print (names)"
   ]
  },
  {
   "cell_type": "code",
   "execution_count": 8,
   "metadata": {},
   "outputs": [
    {
     "name": "stdout",
     "output_type": "stream",
     "text": [
      "The count of rows with missing data: \n",
      " code                                        26\n",
      "url                                         26\n",
      "creator                                      3\n",
      "created_t                                    3\n",
      "created_datetime                            10\n",
      "last_modified_t                              0\n",
      "last_modified_datetime                       0\n",
      "product_name                             17512\n",
      "generic_name                            298313\n",
      "quantity                                236742\n",
      "packaging                               266067\n",
      "packaging_tags                          266068\n",
      "brands                                   29050\n",
      "brands_tags                              29070\n",
      "categories                              252728\n",
      "categories_tags                         252752\n",
      "categories_en                           252726\n",
      "origins                                 330977\n",
      "origins_tags                            331015\n",
      "manufacturing_places                    314019\n",
      "manufacturing_places_tags               314026\n",
      "labels                                  296929\n",
      "labels_tags                             296849\n",
      "labels_en                               296823\n",
      "emb_codes                               323537\n",
      "emb_codes_tags                          323541\n",
      "first_packaging_code_geo                335155\n",
      "cities                                  356001\n",
      "cities_tags                             333525\n",
      "purchase_places                         289462\n",
      "                                         ...  \n",
      "pantothenic-acid_100g                   353476\n",
      "silica_100g                             355954\n",
      "bicarbonate_100g                        355928\n",
      "potassium_100g                          331179\n",
      "chloride_100g                           355829\n",
      "calcium_100g                            214510\n",
      "phosphorus_100g                         350089\n",
      "iron_100g                               215367\n",
      "magnesium_100g                          349635\n",
      "zinc_100g                               352063\n",
      "copper_100g                             353905\n",
      "manganese_100g                          354388\n",
      "fluoride_100g                           355928\n",
      "selenium_100g                           354846\n",
      "chromium_100g                           356004\n",
      "molybdenum_100g                         356007\n",
      "iodine_100g                             355739\n",
      "caffeine_100g                           355936\n",
      "taurine_100g                            355994\n",
      "ph_100g                                 355975\n",
      "fruits-vegetables-nuts_100g             352799\n",
      "fruits-vegetables-nuts-estimate_100g    355623\n",
      "collagen-meat-protein-ratio_100g        355845\n",
      "cocoa_100g                              354644\n",
      "chlorophyl_100g                         356027\n",
      "carbon-footprint_100g                   355749\n",
      "nutrition-score-fr_100g                 101171\n",
      "nutrition-score-uk_100g                 101171\n",
      "glycemic-index_100g                     356027\n",
      "water-hardness_100g                     356027\n",
      "Length: 163, dtype: int64\n"
     ]
    }
   ],
   "source": [
    "\n",
    "print (\"The count of rows with missing data: \\n\", Data.isnull().sum())\n"
   ]
  },
  {
   "cell_type": "code",
   "execution_count": 9,
   "metadata": {
    "collapsed": true
   },
   "outputs": [],
   "source": [
    "top_countries = ['france','united kingdom','spain','germany','united states' ]\n",
    "fruits_vegetables_nuts=[]\n",
    "# Loop through all top five countries \n",
    "for country in top_countries:\n",
    "    fruits_vegetables_nuts.append(getattr(Data[Data.countries==country], 'fruits-vegetables-nuts_100g').mean())"
   ]
  },
  {
   "cell_type": "code",
   "execution_count": 29,
   "metadata": {},
   "outputs": [
    {
     "data": {
      "image/png": "[encoded data removed]",
      "text/plain": [
       "<matplotlib.figure.Figure at 0x12e83e1ee10>"
      ]
     },
     "metadata": {},
     "output_type": "display_data"
    }
   ],
   "source": [
    "fig=plt.figure(figsize=(12,8))\n",
    "ax1 = fig.add_subplot(1,1,1)\n",
    "y_pos = np.arange(len(top_countries))\n",
    "    \n",
    "plt.bar(y_pos,fruits_vegetables_nuts, align='center')\n",
    "plt.title('Average total fruits-vegetables-nuts content per 100g')\n",
    "plt.xticks(y_pos, top_countries)\n",
    "plt.ylabel('fruits-vegetables-nuts/100g') \n",
    "plt.show()"
   ]
  },
  {
   "cell_type": "code",
   "execution_count": 11,
   "metadata": {},
   "outputs": [],
   "source": [
    "alcohol=[]\n",
    "# Loop through all top five countries \n",
    "for country in top_countries:\n",
    "    alcohol.append(getattr(Data[Data.countries==country], 'alcohol_100g').mean())"
   ]
  },
  {
   "cell_type": "code",
   "execution_count": 13,
   "metadata": {},
   "outputs": [
    {
     "ename": "NameError",
     "evalue": "name 'y_pos' is not defined",
     "output_type": "error",
     "traceback": [
      "\u001b[1;31m---------------------------------------------------------------------------\u001b[0m",
      "\u001b[1;31mNameError\u001b[0m                                 Traceback (most recent call last)",
      "\u001b[1;32m<ipython-input-13-02ae8b57cb12>\u001b[0m in \u001b[0;36m<module>\u001b[1;34m()\u001b[0m\n\u001b[0;32m      1\u001b[0m \u001b[0mfig\u001b[0m\u001b[1;33m=\u001b[0m\u001b[0mplt\u001b[0m\u001b[1;33m.\u001b[0m\u001b[0mfigure\u001b[0m\u001b[1;33m(\u001b[0m\u001b[0mfigsize\u001b[0m\u001b[1;33m=\u001b[0m\u001b[1;33m(\u001b[0m\u001b[1;36m12\u001b[0m\u001b[1;33m,\u001b[0m\u001b[1;36m8\u001b[0m\u001b[1;33m)\u001b[0m\u001b[1;33m)\u001b[0m\u001b[1;33m\u001b[0m\u001b[0m\n\u001b[1;32m----> 2\u001b[1;33m \u001b[0mplt\u001b[0m\u001b[1;33m.\u001b[0m\u001b[0mbar\u001b[0m\u001b[1;33m(\u001b[0m\u001b[0my_pos\u001b[0m\u001b[1;33m,\u001b[0m\u001b[0malcohol\u001b[0m\u001b[1;33m,\u001b[0m \u001b[0malign\u001b[0m\u001b[1;33m=\u001b[0m\u001b[1;34m'center'\u001b[0m\u001b[1;33m)\u001b[0m\u001b[1;33m\u001b[0m\u001b[0m\n\u001b[0m\u001b[0;32m      3\u001b[0m \u001b[0mplt\u001b[0m\u001b[1;33m.\u001b[0m\u001b[0mtitle\u001b[0m\u001b[1;33m(\u001b[0m\u001b[1;34m'Average total alcohol content per 100g'\u001b[0m\u001b[1;33m)\u001b[0m\u001b[1;33m\u001b[0m\u001b[0m\n\u001b[0;32m      4\u001b[0m \u001b[0mplt\u001b[0m\u001b[1;33m.\u001b[0m\u001b[0mxticks\u001b[0m\u001b[1;33m(\u001b[0m\u001b[0my_pos\u001b[0m\u001b[1;33m,\u001b[0m \u001b[0mtop_countries\u001b[0m\u001b[1;33m)\u001b[0m\u001b[1;33m\u001b[0m\u001b[0m\n\u001b[0;32m      5\u001b[0m \u001b[0mplt\u001b[0m\u001b[1;33m.\u001b[0m\u001b[0mylabel\u001b[0m\u001b[1;33m(\u001b[0m\u001b[1;34m'alcohol/100g'\u001b[0m\u001b[1;33m)\u001b[0m\u001b[1;33m\u001b[0m\u001b[0m\n",
      "\u001b[1;31mNameError\u001b[0m: name 'y_pos' is not defined"
     ]
    },
    {
     "data": {
      "text/plain": [
       "<matplotlib.figure.Figure at 0x190803164a8>"
      ]
     },
     "metadata": {},
     "output_type": "display_data"
    }
   ],
   "source": [
    "fig=plt.figure(figsize=(12,8))\n",
    "plt.bar(y_pos,alcohol, align='center')\n",
    "plt.title('Average total alcohol content per 100g')\n",
    "plt.xticks(y_pos, top_countries)\n",
    "plt.ylabel('alcohol/100g')    \n",
    "plt.show()"
   ]
  },
  {
   "cell_type": "code",
   "execution_count": null,
   "metadata": {
    "collapsed": true
   },
   "outputs": [],
   "source": []
  }
 ],
 "metadata": {
  "kernelspec": {
   "display_name": "Python 3",
   "language": "python",
   "name": "python3"
  },
  "language_info": {
   "codemirror_mode": {
    "name": "ipython",
    "version": 3
   },
   "file_extension": ".py",
   "mimetype": "text/x-python",
   "name": "python",
   "nbconvert_exporter": "python",
   "pygments_lexer": "ipython3",
   "version": "3.6.3"
  }
 },
 "nbformat": 4,
 "nbformat_minor": 2
}
